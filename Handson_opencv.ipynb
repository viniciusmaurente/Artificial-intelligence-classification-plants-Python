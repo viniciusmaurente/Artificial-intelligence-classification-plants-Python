{
  "nbformat": 4,
  "nbformat_minor": 0,
  "metadata": {
    "colab": {
      "name": "Handson-opencv.ipynb",
      "provenance": [],
      "authorship_tag": "ABX9TyO7PO4ookNyURiL6Rz3JrXV",
      "include_colab_link": true
    },
    "kernelspec": {
      "name": "python3",
      "display_name": "Python 3"
    },
    "language_info": {
      "name": "python"
    }
  },
  "cells": [
    {
      "cell_type": "markdown",
      "metadata": {
        "id": "view-in-github",
        "colab_type": "text"
      },
      "source": [
        "<a href=\"https://colab.research.google.com/github/viniciusmaurente/Artificial-intelligence-classification-plants-Python/blob/master/Handson_opencv.ipynb\" target=\"_parent\"><img src=\"https://colab.research.google.com/assets/colab-badge.svg\" alt=\"Open In Colab\"/></a>"
      ]
    },
    {
      "cell_type": "markdown",
      "metadata": {
        "id": "P_Bv59IJww1V"
      },
      "source": [
        "Computer vision for inspection of metal parts (carbon steel)"
      ]
    },
    {
      "cell_type": "code",
      "metadata": {
        "id": "yIr3xRaLTpVr"
      },
      "source": [
        "import cv2\n",
        "import numpy as np\n",
        "import matplotlib.pyplot as plt\n"
      ],
      "execution_count": 1,
      "outputs": []
    },
    {
      "cell_type": "code",
      "metadata": {
        "colab": {
          "base_uri": "https://localhost:8080/"
        },
        "id": "xzn9aYqIYPxF",
        "outputId": "8e2a0996-11e8-44bb-a985-3e9952a5ff1a"
      },
      "source": [
        "from google.colab import drive\n",
        "drive.mount('/content/drive')"
      ],
      "execution_count": 2,
      "outputs": [
        {
          "output_type": "stream",
          "name": "stdout",
          "text": [
            "Mounted at /content/drive\n"
          ]
        }
      ]
    },
    {
      "cell_type": "code",
      "metadata": {
        "id": "Ju5W2-kkVOYD"
      },
      "source": [
        "image = cv2.imread('/content/drive/MyDrive/visao computacional opencv/corrosa-dif-text.jpg')     \n",
        "   "
      ],
      "execution_count": 99,
      "outputs": []
    },
    {
      "cell_type": "code",
      "metadata": {
        "id": "6I6xFtalaDCt",
        "colab": {
          "base_uri": "https://localhost:8080/"
        },
        "outputId": "3c2a9293-9d06-40fc-cb03-725aee10c773"
      },
      "source": [
        "image.shape"
      ],
      "execution_count": null,
      "outputs": [
        {
          "output_type": "execute_result",
          "data": {
            "text/plain": [
              "(416, 416, 3)"
            ]
          },
          "metadata": {},
          "execution_count": 5
        }
      ]
    },
    {
      "cell_type": "code",
      "metadata": {
        "id": "7Frn8746aVme"
      },
      "source": [
        "#cv2.imshow(image)\n",
        "from google.colab.patches import cv2_imshow\n",
        "cv2_imshow(image)"
      ],
      "execution_count": null,
      "outputs": []
    },
    {
      "cell_type": "code",
      "metadata": {
        "id": "y_CLNxx-a6hz",
        "colab": {
          "base_uri": "https://localhost:8080/"
        },
        "outputId": "daf2a0d1-3ad2-4373-912c-f46924aa1179"
      },
      "source": [
        "image = cv2.resize(image,(500,500))\n",
        "image.shape"
      ],
      "execution_count": null,
      "outputs": [
        {
          "output_type": "execute_result",
          "data": {
            "text/plain": [
              "(500, 500, 3)"
            ]
          },
          "metadata": {},
          "execution_count": 9
        }
      ]
    },
    {
      "cell_type": "code",
      "metadata": {
        "id": "DXOC5e8IbHKg"
      },
      "source": [
        "blurred_frame = cv2.GaussianBlur(image, (5,5), 0)\n",
        "cv2_imshow(image)\n"
      ],
      "execution_count": null,
      "outputs": []
    },
    {
      "cell_type": "code",
      "metadata": {
        "id": "Q8RfSpxhYWvp"
      },
      "source": [
        "hsv_frame = cv2.cvtColor(image, cv2.COLOR_HSV2BGR)\n",
        "cv2_imshow(hsv_frame)"
      ],
      "execution_count": null,
      "outputs": []
    },
    {
      "cell_type": "code",
      "metadata": {
        "id": "sPdq8oM7bk6N"
      },
      "source": [
        "image_cinza = cv2.cvtColor(image, cv2.COLOR_BGR2GRAY)\n",
        "cv2_imshow(image_cinza)\n"
      ],
      "execution_count": null,
      "outputs": []
    },
    {
      "cell_type": "code",
      "metadata": {
        "id": "C4mGwXs8r3v0"
      },
      "source": [
        "image_cinza.shape"
      ],
      "execution_count": null,
      "outputs": []
    },
    {
      "cell_type": "code",
      "metadata": {
        "id": "cjdUvCbAhChY"
      },
      "source": [
        "(thresh, image_seg) = cv2.threshold(image_cinza, 125, 255, cv2.THRESH_BINARY | cv2.THRESH_OTSU)\n",
        "thresh = 130\n",
        "image_seg = cv2.threshold(image_cinza, thresh, 255, cv2.THRESH_BINARY)[1]\n",
        "cv2_imshow(image_seg)"
      ],
      "execution_count": null,
      "outputs": []
    },
    {
      "cell_type": "code",
      "metadata": {
        "id": "Sne4ZgMSZDPd"
      },
      "source": [
        "mask_inv = cv2.bitwise_not(image_seg)\n",
        "cv2_imshow(mask_inv)"
      ],
      "execution_count": null,
      "outputs": []
    },
    {
      "cell_type": "code",
      "metadata": {
        "id": "6HXq0KD2sB1y"
      },
      "source": [
        "for i in range(0,1):\n",
        "\timage_dilated = cv2.dilate(image_seg, None, iterations=i + 1)\n",
        "\tcv2_imshow(image_dilated)\n"
      ],
      "execution_count": null,
      "outputs": []
    },
    {
      "cell_type": "code",
      "metadata": {
        "id": "tbFWCMFKkX4e"
      },
      "source": [
        "for i in range(0, 2):\n",
        "\timage_eroded = cv2.erode(image_dilated, None, iterations=i + 1)\n",
        "\tcv2_imshow(image_eroded)\n"
      ],
      "execution_count": null,
      "outputs": []
    },
    {
      "cell_type": "code",
      "metadata": {
        "id": "JXWczq7zz5w8"
      },
      "source": [
        "for i in range(0, 1):\n",
        "\timage_eroded2 = cv2.erode(image_eroded, None, iterations=i + 1)\n",
        "\tcv2_imshow(image_eroded2)\n"
      ],
      "execution_count": null,
      "outputs": []
    },
    {
      "cell_type": "code",
      "metadata": {
        "id": "vXx8YoDz0AoY"
      },
      "source": [
        "for i in range(0,1):\n",
        "\timage_morpho = cv2.dilate(image_eroded2, None, iterations=i + 1)\n",
        "cv2_imshow(image_morpho)\n"
      ],
      "execution_count": null,
      "outputs": []
    },
    {
      "cell_type": "code",
      "metadata": {
        "id": "txtoe2FghM1s"
      },
      "source": [
        "contours, hierarchy = cv2.findContours(image_morpho, cv2.RETR_TREE, cv2.CHAIN_APPROX_NONE)\n",
        "\n",
        "for contour in contours:\n",
        "  area = cv2.contourArea(contour)\n",
        "  \n",
        "  if area > 40:\n",
        "    image_contour = cv2.drawContours(image, contour, -1, (0,255,0), 2)\n",
        "\n",
        "print(\"Area do defeito encontrado (pixels):  \", area)\n",
        "print(\"Numero de defeitos encontrados -> \", len(contours))\n",
        "\n",
        "\n",
        "cv2_imshow(image_contour)\n",
        "plt.imshow(image_contour)\n",
        "plt.show()\n",
        "\n"
      ],
      "execution_count": null,
      "outputs": []
    },
    {
      "cell_type": "code",
      "metadata": {
        "id": "yrFrkeSodxf1"
      },
      "source": [
        "edges = cv2.Canny(image_morpho,100,200)\n",
        "\n",
        "fig, ax = plt.subplots(ncols=2,figsize=(15,5))\n",
        "ax[0].imshow(image,cmap = 'gray')\n",
        "ax[0].set_title('Original Image') \n",
        "ax[0].axis('on')\n",
        "ax[1].imshow(edges,cmap = 'gray')\n",
        "ax[1].set_title('Edge Image')\n",
        "ax[1].axis('on')\n",
        "print(\"Area do defeito encontrado (pixels):  \", area)\n",
        "print(\"Numero de defeitos encontrados -> \", len(contours))\n",
        "\n",
        "plt.show()"
      ],
      "execution_count": null,
      "outputs": []
    },
    {
      "cell_type": "code",
      "metadata": {
        "id": "1CN_NQaCfh13"
      },
      "source": [
        "kernel = np.ones((5,5),np.uint8)\n",
        "dilation = cv2.dilate(edges,kernel,iterations = 1)\n",
        "fig, ax = plt.subplots(ncols=2,figsize=(15,5))\n",
        "ax[0].imshow(edges,cmap = 'gray')\n",
        "ax[0].set_title('Original Edge') \n",
        "ax[0].axis('on')\n",
        "ax[1].imshow(dilation,cmap = 'gray')\n",
        "ax[1].set_title('Dilated')\n",
        "plt.axis('on')\n",
        "plt.show()"
      ],
      "execution_count": null,
      "outputs": []
    },
    {
      "cell_type": "code",
      "metadata": {
        "id": "t7KNI-EvfslH"
      },
      "source": [
        "kernel = np.ones((5,5),np.uint8)\n",
        "erosion = cv2.erode(dilation,kernel)\n",
        "fig, ax = plt.subplots(ncols=2,figsize=(15,5))\n",
        "ax[0].imshow(dilation,cmap = 'gray')\n",
        "ax[0].set_title('Original') \n",
        "plt.axis('off')\n",
        "ax[1].imshow(erosion,cmap = 'gray')\n",
        "ax[1].set_title('Eroded')\n",
        "plt.axis('off')\n",
        "plt.show()"
      ],
      "execution_count": null,
      "outputs": []
    },
    {
      "cell_type": "code",
      "metadata": {
        "id": "cnoiOP6NgDRR"
      },
      "source": [
        "kernel = np.ones((10,10),np.uint8)\n",
        "edges_3 = cv2.Canny(image_seg,125,255)\n",
        "fig, ax = plt.subplots(ncols=2,figsize=(15,5))\n",
        "ax[0].imshow(image_seg, cmap='gray')\n",
        "ax[0].set_title('Original Image') \n",
        "ax[0].axis('off')\n",
        "ax[1].imshow(image_morpho,cmap = 'gray')\n",
        "ax[1].set_title('Opening Image')\n",
        "ax[1].axis('off')\n",
        "plt.show()"
      ],
      "execution_count": null,
      "outputs": []
    },
    {
      "cell_type": "code",
      "metadata": {
        "id": "EKVuuZEBf3Tk"
      },
      "source": [
        "blurred_frame = cv2.GaussianBlur(image, (5,5), 0)\n",
        "\n",
        "lower_green = np.array([0,0,0])\n",
        "upper_green = np.array([0,0,0])\n",
        "mask = cv2.inRange(image, lower_green, upper_green)\n",
        "\n",
        "contours, hierarchy = cv2.findContours(mask, cv2.RETR_TREE, cv2.CHAIN_APPROX_NONE)\n",
        "\n",
        "for contour in contours:\n",
        "  area = cv2.contourArea(contour)\n",
        "\n",
        "  if area > 50:\n",
        "    cv2.drawContours(image, contour, -1, (0,255,0), 3)\n",
        "\n",
        "print(\"Area do defeito encontrado (pixels):  \", area)\n",
        "print(\"Numero de defeitos encontrados -> \", len(contours))\n",
        "\n",
        "\n",
        "cv2_imshow(blurred_frame)\n"
      ],
      "execution_count": null,
      "outputs": []
    }
  ]
}